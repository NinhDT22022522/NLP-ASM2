{
  "nbformat": 4,
  "nbformat_minor": 0,
  "metadata": {
    "colab": {
      "provenance": [],
      "mount_file_id": "1G-YDjHsNp40SGEA1k_Qw28mBuvPLO7HK",
      "authorship_tag": "ABX9TyNaKzdxi4693MxuDS32My/5",
      "include_colab_link": true
    },
    "kernelspec": {
      "name": "python3",
      "display_name": "Python 3"
    },
    "language_info": {
      "name": "python"
    }
  },
  "cells": [
    {
      "cell_type": "markdown",
      "metadata": {
        "id": "view-in-github",
        "colab_type": "text"
      },
      "source": [
        "<a href=\"https://colab.research.google.com/github/NinhDT22022522/NLP-ASM2/blob/main/extraction.ipynb\" target=\"_parent\"><img src=\"https://colab.research.google.com/assets/colab-badge.svg\" alt=\"Open In Colab\"/></a>"
      ]
    },
    {
      "cell_type": "code",
      "execution_count": null,
      "metadata": {
        "id": "hMu_SNY0psIB",
        "colab": {
          "base_uri": "https://localhost:8080/"
        },
        "outputId": "aac9fd89-1b1d-4365-fa52-f3590b426986"
      },
      "outputs": [
        {
          "output_type": "stream",
          "name": "stdout",
          "text": [
            "Collecting wikiextractor\n",
            "  Downloading wikiextractor-3.0.6-py3-none-any.whl (46 kB)\n",
            "\u001b[2K     \u001b[90m━━━━━━━━━━━━━━━━━━━━━━━━━━━━━━━━━━━━━━━━\u001b[0m \u001b[32m46.4/46.4 kB\u001b[0m \u001b[31m2.7 MB/s\u001b[0m eta \u001b[36m0:00:00\u001b[0m\n",
            "\u001b[?25hInstalling collected packages: wikiextractor\n",
            "Successfully installed wikiextractor-3.0.6\n"
          ]
        }
      ],
      "source": [
        "!pip install wikiextractor"
      ]
    },
    {
      "cell_type": "code",
      "source": [
        "from google.colab import drive\n",
        "drive.mount('/content/drive')"
      ],
      "metadata": {
        "id": "ejeNzQWrspka",
        "colab": {
          "base_uri": "https://localhost:8080/"
        },
        "outputId": "a76fd2a5-43ef-478e-d31a-44c7df589d39"
      },
      "execution_count": null,
      "outputs": [
        {
          "output_type": "stream",
          "name": "stdout",
          "text": [
            "Drive already mounted at /content/drive; to attempt to forcibly remount, call drive.mount(\"/content/drive\", force_remount=True).\n"
          ]
        }
      ]
    },
    {
      "cell_type": "code",
      "source": [
        "import os\n",
        "current_dir = os.getcwd()\n",
        "print(current_dir)\n"
      ],
      "metadata": {
        "id": "hjUkb_smuJnV",
        "colab": {
          "base_uri": "https://localhost:8080/"
        },
        "outputId": "3f698539-8115-40e7-c412-b8280056afd7"
      },
      "execution_count": null,
      "outputs": [
        {
          "output_type": "stream",
          "name": "stdout",
          "text": [
            "/content\n"
          ]
        }
      ]
    },
    {
      "cell_type": "code",
      "source": [
        "!python -m wikiextractor.WikiExtractor /content/drive/MyDrive/Colab_Notebooks/NLP/Week2/viwiki-20240701-pages-articles-multistream4.xml-p4565247p6065246 -o /content/drive/MyDrive/Colab_Notebooks/NLP/Week2"
      ],
      "metadata": {
        "id": "B9WP7POVqGXn",
        "colab": {
          "base_uri": "https://localhost:8080/"
        },
        "outputId": "5565c344-806d-419e-9a56-e478d2251a25"
      },
      "execution_count": null,
      "outputs": [
        {
          "output_type": "stream",
          "name": "stdout",
          "text": [
            "INFO: Preprocessing '/content/drive/MyDrive/Colab_Notebooks/NLP/Week2/viwiki-20240701-pages-articles-multistream4.xml-p4565247p6065246' to collect template definitions: this may take some time.\n",
            "INFO: Loaded 69 templates in 0.1s\n",
            "INFO: Starting page extraction from /content/drive/MyDrive/Colab_Notebooks/NLP/Week2/viwiki-20240701-pages-articles-multistream4.xml-p4565247p6065246.\n",
            "INFO: Using 1 extract processes.\n",
            "INFO: Finished 1-process extraction of 201 articles in 0.5s (438.5 art/s)\n"
          ]
        }
      ]
    }
  ]
}